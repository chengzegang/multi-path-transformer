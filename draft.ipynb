{
 "cells": [
  {
   "cell_type": "code",
   "execution_count": 50,
   "metadata": {},
   "outputs": [],
   "source": [
    "import math\n",
    "def grad_accumulation_scheduler(step: int, init_accum_steps: int = 0, last_accum_steps: int=0, rate: float = 0.1):\n",
    "    curr_steps = min(last_accum_steps, math.ceil(init_accum_steps + (1+rate) ** step))\n",
    "    return curr_steps\n",
    "\n",
    "\n",
    "it= iter(range(100000))\n"
   ]
  },
  {
   "cell_type": "code",
   "execution_count": 116,
   "metadata": {},
   "outputs": [
    {
     "data": {
      "text/plain": [
       "591"
      ]
     },
     "execution_count": 116,
     "metadata": {},
     "output_type": "execute_result"
    }
   ],
   "source": [
    "grad_accumulation_scheduler(next(it), 100, 10000)"
   ]
  },
  {
   "cell_type": "code",
   "execution_count": 120,
   "metadata": {},
   "outputs": [
    {
     "data": {
      "text/plain": [
       "tensor([[[ 1.1484],\n",
       "         [ 1.2920],\n",
       "         [ 0.8807],\n",
       "         [ 0.1138],\n",
       "         [ 0.3756],\n",
       "         [-0.8406],\n",
       "         [ 0.5870],\n",
       "         [ 0.7911],\n",
       "         [ 1.6665],\n",
       "         [ 0.2041],\n",
       "         [ 1.6300],\n",
       "         [-0.1630],\n",
       "         [ 0.2175],\n",
       "         [-0.8020],\n",
       "         [ 0.3621],\n",
       "         [ 0.1398]],\n",
       "\n",
       "        [[-0.8373],\n",
       "         [-1.2821],\n",
       "         [ 0.0025],\n",
       "         [-1.8364],\n",
       "         [ 1.4035],\n",
       "         [-0.0629],\n",
       "         [ 0.4199],\n",
       "         [ 2.0206],\n",
       "         [ 0.3890],\n",
       "         [-0.8484],\n",
       "         [-1.5107],\n",
       "         [-0.5714],\n",
       "         [-1.5788],\n",
       "         [ 1.8824],\n",
       "         [ 0.8971],\n",
       "         [-2.0109]]], grad_fn=<GatherBackward0>)"
      ]
     },
     "execution_count": 120,
     "metadata": {},
     "output_type": "execute_result"
    }
   ],
   "source": [
    "import torch\n",
    "\n",
    "a = torch.randn(2, 16, 16)\n",
    "a.requires_grad_(True)\n",
    "b = torch.randint(0, 16, (2, 16))\n",
    "a.gather(-1, b.unsqueeze(-1))"
   ]
  },
  {
   "cell_type": "code",
   "execution_count": null,
   "metadata": {},
   "outputs": [],
   "source": []
  }
 ],
 "metadata": {
  "kernelspec": {
   "display_name": "base",
   "language": "python",
   "name": "python3"
  },
  "language_info": {
   "codemirror_mode": {
    "name": "ipython",
    "version": 3
   },
   "file_extension": ".py",
   "mimetype": "text/x-python",
   "name": "python",
   "nbconvert_exporter": "python",
   "pygments_lexer": "ipython3",
   "version": "3.10.13"
  }
 },
 "nbformat": 4,
 "nbformat_minor": 2
}
