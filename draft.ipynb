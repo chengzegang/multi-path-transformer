{
 "cells": [
  {
   "cell_type": "code",
   "execution_count": 1,
   "metadata": {},
   "outputs": [
    {
     "data": {
      "image/png": "[encoded data removed]",
      "text/plain": [
       "<Figure size 640x480 with 1 Axes>"
      ]
     },
     "metadata": {},
     "output_type": "display_data"
    }
   ],
   "source": [
    "from typing import Tuple\n",
    "import gymnasium as gym\n",
    "import matplotlib.pyplot as plt\n",
    "import numpy as np\n",
    "from IPython.display import clear_output\n",
    "from multipath.nn.modules import Decoder\n",
    "import torch\n",
    "from torch import nn, optim, Tensor\n",
    "from torch.nn import functional as F\n",
    "import torch._dynamo\n",
    "\n",
    "env = gym.make(\"CartPole-v1\", render_mode=\"rgb_array\")\n",
    "env.reset()\n",
    "observation, info = env.reset(seed=42)\n",
    "\n",
    "\n",
    "class Agent(nn.Module):\n",
    "\n",
    "    def __init__(self, hidden_size: int, num_layers: int, num_actions: int):\n",
    "        super().__init__()\n",
    "        self.hidden_size = hidden_size\n",
    "        self.num_layers = num_layers\n",
    "        self.num_actions = num_actions\n",
    "\n",
    "        self.actor = nn.Linear(hidden_size, num_actions)\n",
    "        self.action_embeds = nn.Embedding(num_embeddings=num_actions, embedding_dim=hidden_size)\n",
    "        self.state_embeds = nn.Linear(in_features=5, out_features=hidden_size)\n",
    "        self.decoder = Decoder(hidden_size=hidden_size, num_layers=num_layers, dropout=0.5)\n",
    "        self.state_head = nn.Linear(in_features=hidden_size, out_features=5)\n",
    "        self.action_head = nn.Linear(in_features=hidden_size, out_features=num_actions)\n",
    "    \n",
    "    def actor_forward(self, states: Tensor, actions: Tensor) -> Tensor:\n",
    "        \n",
    "        self.action_embeds.requires_grad_(False)\n",
    "        self.state_embeds.requires_grad_(False)\n",
    "        self.decoder.requires_grad_(False)\n",
    "        self.state_head.requires_grad_(False)\n",
    "        \n",
    "        state_embeds = self.state_embeds(states)\n",
    "        action_embeds = self.action_embeds(actions)\n",
    "        last_act = self.actor(state_embeds[:,-1,:])\n",
    "        last_act_embeds = last_act @ self.action_embeds.weight\n",
    "        action_embeds[:,-1] = last_act_embeds\n",
    "\n",
    "        \n",
    "        input_embeds = torch.cat([action_embeds, state_embeds], dim=-1)\n",
    "        output, _ = self.decoder(input_embeds)\n",
    "        state_output = output[...,:self.hidden_size]\n",
    "        action_output = output[...,self.hidden_size:]\n",
    "        state_logits = self.state_head(state_output)\n",
    "        #action_logits = self.action_head(action_output)\n",
    "        last_state_logits = state_logits[:,-1,-1]\n",
    "        return last_act, last_state_logits\n",
    "\n",
    "\n",
    "    def forward(self, states: Tensor, actions: Tensor) -> Tuple[Tensor, Tensor]:\n",
    "        self.action_embeds.requires_grad_(True)\n",
    "        self.state_embeds.requires_grad_(True)\n",
    "        self.decoder.requires_grad_(True)\n",
    "        self.state_head.requires_grad_(True)\n",
    "        action_embeds = self.action_embeds(actions)\n",
    "        state_embeds = self.state_embeds(states)\n",
    "        input_embeds = torch.cat([action_embeds, state_embeds], dim=-1)\n",
    "        output, _ = self.decoder(input_embeds)\n",
    "        state_output = output[...,:self.hidden_size]\n",
    "        action_output = output[...,self.hidden_size:]\n",
    "        state_logits = self.state_head(state_output)\n",
    "        action_logits = self.action_head(action_output)\n",
    "        \n",
    "        return state_logits, action_logits\n",
    "\n",
    "observations = []\n",
    "actions = []\n",
    "labels = []\n",
    "\n",
    "agent = Agent(hidden_size=32, num_layers=4, num_actions=2).to(torch.bfloat16).to('cuda')\n",
    "opt = optim.Adam(agent.parameters(), lr=1e-4, weight_decay=1e-5, betas=(0.9, 0.96),fused=True)\n",
    "action = None\n",
    "\n",
    "\n",
    "for i in range(100000):\n",
    "    if i < 1000:\n",
    "        action = env.action_space.sample()\n",
    "    observation, reward, terminated, truncated, info = env.step(action)\n",
    "    observation = np.concatenate([observation, [float(terminated)]])\n",
    "    observations.append(observation)\n",
    "    actions.append(action)\n",
    "\n",
    "    o = torch.as_tensor(observations, dtype=torch.bfloat16).to(device='cuda').unsqueeze(0)\n",
    "    a = torch.as_tensor(actions, dtype=torch.long).to('cuda').unsqueeze(0)\n",
    "    loss = float('nan')\n",
    "    if o.shape[1] > 2:\n",
    "        agent.train()\n",
    "        oh, ah = agent(o, a)\n",
    "        loss = F.mse_loss(oh[:, :-1, :-1], o[:, 1:, :-1])+ F.binary_cross_entropy_with_logits(oh[:, :-1, -1], o[:, 1:, -1])  + F.cross_entropy(ah[:, :-1].flatten(0, 1), a[:, 1:].view(-1))\n",
    "        #last_act, actor_logits = agent.actor_forward(o, a)\n",
    "        #loss += F.binary_cross_entropy_with_logits(actor_logits, torch.zeros_like(actor_logits))\n",
    "        opt.zero_grad()\n",
    "        loss.backward()\n",
    "        opt.step()\n",
    "        if i >= 1000:\n",
    "            action = torch.argmax(ah[:, -1], dim=-1).item()\n",
    "        loss = loss.item()\n",
    "\n",
    "    frame = env.render()\n",
    "    clear_output(wait=True)\n",
    "    plt.imshow(frame)\n",
    "    plt.title(f'it: {i} loss: {loss}')\n",
    "    plt.show()\n",
    "    if terminated or truncated:\n",
    "        observation, info = env.reset()\n",
    "        observations = []\n",
    "        actions = []\n",
    "env.close()"
   ]
  },
  {
   "cell_type": "code",
   "execution_count": 2,
   "metadata": {},
   "outputs": [],
   "source": [
    "import torch\n",
    "a = torch.randint(0, 100, (2, 10, 10))"
   ]
  },
  {
   "cell_type": "code",
   "execution_count": 5,
   "metadata": {},
   "outputs": [
    {
     "data": {
      "text/plain": [
       "tensor([[21, 52, 93, 85, 56, 31, 64, 22, 69, 12],\n",
       "        [ 2, 33, 41, 66, 66, 64, 16, 24, 89, 64],\n",
       "        [24, 59, 79, 26, 28, 23, 14, 77, 35, 33],\n",
       "        [79, 71, 61, 59, 27, 48, 71, 19, 26, 95],\n",
       "        [88, 39, 81, 22, 58, 69, 19, 23, 43, 82],\n",
       "        [25, 95, 92, 94, 96, 95, 86, 36, 85, 32],\n",
       "        [31, 31, 96, 23, 73, 41, 67, 61, 87, 63],\n",
       "        [50, 23,  5, 63, 23, 92, 64, 87, 20, 79],\n",
       "        [48, 38, 91, 59, 96, 66, 59, 65, 94, 67],\n",
       "        [70, 58,  6, 37, 68, 42, 29, 54, 12, 81]])"
      ]
     },
     "execution_count": 5,
     "metadata": {},
     "output_type": "execute_result"
    }
   ],
   "source": [
    "a[0 ]"
   ]
  },
  {
   "cell_type": "code",
   "execution_count": 6,
   "metadata": {},
   "outputs": [
    {
     "data": {
      "text/plain": [
       "tensor([[[21, 52, 93, 85, 56, 31, 64, 22, 69, 12],\n",
       "         [ 2, 33, 41, 66, 66, 64, 16, 24, 89, 64]],\n",
       "\n",
       "        [[24, 59, 79, 26, 28, 23, 14, 77, 35, 33],\n",
       "         [79, 71, 61, 59, 27, 48, 71, 19, 26, 95]],\n",
       "\n",
       "        [[88, 39, 81, 22, 58, 69, 19, 23, 43, 82],\n",
       "         [25, 95, 92, 94, 96, 95, 86, 36, 85, 32]],\n",
       "\n",
       "        [[31, 31, 96, 23, 73, 41, 67, 61, 87, 63],\n",
       "         [50, 23,  5, 63, 23, 92, 64, 87, 20, 79]],\n",
       "\n",
       "        [[48, 38, 91, 59, 96, 66, 59, 65, 94, 67],\n",
       "         [70, 58,  6, 37, 68, 42, 29, 54, 12, 81]]])"
      ]
     },
     "execution_count": 6,
     "metadata": {},
     "output_type": "execute_result"
    }
   ],
   "source": [
    "a.view(2, 5, 2, 10)[0]"
   ]
  },
  {
   "cell_type": "code",
   "execution_count": 20,
   "metadata": {},
   "outputs": [],
   "source": [
    "import torch \n",
    "\n",
    "x = torch.randn(10, 10)\n",
    "y = torch.randn(10, 10)\n",
    "\n",
    "\n",
    "a1 = x @ y\n",
    "a2 = y @ x"
   ]
  },
  {
   "cell_type": "code",
   "execution_count": 22,
   "metadata": {},
   "outputs": [
    {
     "data": {
      "text/plain": [
       "tensor([[ 6.6177,  3.5967,  0.8464, -2.7326,  1.6867,  1.8260, -0.1615,  0.3334,\n",
       "          2.6924,  5.5618],\n",
       "        [ 3.2056,  4.0359,  5.5721, -1.5209,  3.2669,  0.4057,  0.0420,  1.2967,\n",
       "          1.9426, -0.2822],\n",
       "        [ 4.6053,  3.1358,  4.3651, -1.4106,  3.9750,  0.5043, -0.7469, -0.8910,\n",
       "          1.4379,  3.1478],\n",
       "        [-4.4724, -5.4141, -4.5952, -2.2043, -1.5682, -0.8439,  0.3322,  3.2133,\n",
       "         -8.2828, -0.2051],\n",
       "        [ 0.2019, -7.2652, -3.4209,  0.0840, -5.3545,  0.3786, -3.3877,  2.8966,\n",
       "          8.0053, -1.3969],\n",
       "        [ 0.7664,  1.8462,  2.5880, -1.8352,  2.9587, -0.9766, -2.5515,  0.0218,\n",
       "         -2.6426, -1.5378],\n",
       "        [-6.4194,  2.4143, -3.7583,  1.5247, -2.6122, -2.3710, -2.9155, -0.0705,\n",
       "          2.1054, -0.3533],\n",
       "        [-3.9979, -3.0035,  0.6465, -1.2182, -7.2889, -4.3089, -7.6175,  3.4944,\n",
       "          0.9602, -4.5646],\n",
       "        [-0.6309,  2.8748,  4.1314, -1.3215,  2.1021, -0.5827,  0.0763,  2.4243,\n",
       "          0.1626, -0.4015],\n",
       "        [-0.2891,  3.5614, -3.1231, -0.8854, -2.2513, -0.2258,  0.0448, -2.1614,\n",
       "         -3.3573,  3.2012]])"
      ]
     },
     "execution_count": 22,
     "metadata": {},
     "output_type": "execute_result"
    }
   ],
   "source": [
    "a1"
   ]
  },
  {
   "cell_type": "code",
   "execution_count": 23,
   "metadata": {},
   "outputs": [
    {
     "data": {
      "text/plain": [
       "tensor([[  3.8252,  10.3113,  -4.8511,   0.7109,  -5.4236,  -3.5305,   0.5497,\n",
       "           0.3335,   1.9964,  -1.3413],\n",
       "        [  0.9967,   6.0988,  -1.7668,   5.1792,   3.2541,   6.8511,  -2.5665,\n",
       "           1.3816,   0.1862,  -0.1210],\n",
       "        [ -1.4821,  -1.8540,   0.2966,   0.1367,   2.3184,   3.8873,  -1.3453,\n",
       "           0.4609,  -2.1354,   0.4459],\n",
       "        [  2.6260,   3.1155,  -0.8254,   2.8183,  -0.3256,  -3.2909,  -4.2023,\n",
       "           0.0431,   5.4810,  -0.0459],\n",
       "        [  0.3856,  -1.2118,  -0.4427,  -1.1447,   1.5151,   3.1608,  -2.3957,\n",
       "          -1.2432,  -2.1253,   0.2360],\n",
       "        [ -2.7675,   1.8975,  -1.6656,   1.7130,   1.0629,  -3.9911,   1.5724,\n",
       "          -1.5045,   0.6284,   0.2207],\n",
       "        [ -3.0772,  -1.6785,   0.9477,  -2.3442,  -3.0447,  -2.3892,   5.9087,\n",
       "          -0.8974,  -2.5842,  -1.7850],\n",
       "        [ -1.0402,  -0.0434,   3.7422,  -0.9279,  -0.0998, -10.4818,   3.7526,\n",
       "          -0.5620,   4.9364,   3.1723],\n",
       "        [ -0.0329,   4.2495,  -5.0697,  -0.3510,   2.2359,   4.4656,  -1.5098,\n",
       "          -2.8769,  -4.1132,   3.9274],\n",
       "        [ -1.2027,  -3.3924,   0.8594,  -1.0216,  -1.3361,  -2.8268,  -3.6504,\n",
       "          -5.5094,   1.4452,  -1.3703]])"
      ]
     },
     "execution_count": 23,
     "metadata": {},
     "output_type": "execute_result"
    }
   ],
   "source": [
    "a2"
   ]
  },
  {
   "cell_type": "code",
   "execution_count": null,
   "metadata": {},
   "outputs": [],
   "source": []
  }
 ],
 "metadata": {
  "kernelspec": {
   "display_name": "base",
   "language": "python",
   "name": "python3"
  },
  "language_info": {
   "codemirror_mode": {
    "name": "ipython",
    "version": 3
   },
   "file_extension": ".py",
   "mimetype": "text/x-python",
   "name": "python",
   "nbconvert_exporter": "python",
   "pygments_lexer": "ipython3",
   "version": "3.10.12"
  }
 },
 "nbformat": 4,
 "nbformat_minor": 2
}
