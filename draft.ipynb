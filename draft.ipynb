{
 "cells": [
  {
   "cell_type": "code",
   "execution_count": null,
   "metadata": {},
   "outputs": [],
   "source": [
    "del env"
   ]
  },
  {
   "cell_type": "code",
   "execution_count": 1,
   "metadata": {},
   "outputs": [
    {
     "data": {
      "image/png": "[encoded data removed]",
      "text/plain": [
       "<Figure size 640x480 with 1 Axes>"
      ]
     },
     "metadata": {},
     "output_type": "display_data"
    }
   ],
   "source": [
    "from typing import Optional, Tuple\n",
    "import gymnasium as gym\n",
    "import matplotlib.pyplot as plt\n",
    "import numpy as np\n",
    "from IPython.display import clear_output\n",
    "from multipath.nn.modules import Decoder\n",
    "import torch\n",
    "from torch import nn, optim, Tensor\n",
    "from torch.nn import functional as F\n",
    "import torch._dynamo\n",
    "\n",
    "env = gym.make(\"CartPole-v1\", render_mode=\"rgb_array\", autoreset=True)\n",
    "env.reset()\n",
    "observation, info = env.reset(seed=42)\n",
    "\n",
    "\n",
    "\n",
    "class WorldModel(nn.Module):\n",
    "\n",
    "    def __init__(self, num_states: int, num_actions: int, num_layers: int, hidden_size: int = 64):\n",
    "        super().__init__()\n",
    "        self.action_embeds = nn.Embedding(num_actions, hidden_size, dtype=torch.bfloat16)\n",
    "        self.state_ebmeds = nn.Linear(num_states, hidden_size)\n",
    "\n",
    "        self.layers = nn.Sequential()\n",
    "        for _ in range(num_layers):\n",
    "            self.layers.append(nn.Linear(hidden_size, hidden_size))\n",
    "            self.layers.append(nn.InstanceNorm1d(hidden_size))\n",
    "            self.layers.append(nn.ReLU())\n",
    "        self.layers.append(nn.Linear(hidden_size, num_states))\n",
    "    \n",
    "    def forward(self, s: Tensor, a: Tensor) -> Tensor:\n",
    "        s = self.state_ebmeds(s)\n",
    "        a = self.action_embeds(a)\n",
    "        h = s + a\n",
    "        h = F.dropout(h, p=0.1, training=True)\n",
    "        h = self.layers(h)\n",
    "        return h\n",
    "\n",
    "class CostFunction(nn.Module):\n",
    "    def __init__(self, num_states: int, num_layers: int, hidden_size: int = 64):\n",
    "        super().__init__()\n",
    "        self.action_embeds = nn.Embedding(2, hidden_size, dtype=torch.bfloat16)\n",
    "        self.action_proj = nn.Linear(hidden_size, hidden_size)\n",
    "        self.state_ebmeds = nn.Linear(num_states, hidden_size)\n",
    "        self.state_proj = nn.Linear(hidden_size, hidden_size)\n",
    "        self.a_norm = nn.InstanceNorm1d(hidden_size)\n",
    "        self.s_norm = nn.InstanceNorm1d(hidden_size)\n",
    "        self.layers = nn.Sequential()\n",
    "        for _ in range(num_layers):\n",
    "            self.layers.append(nn.Linear(hidden_size, hidden_size))\n",
    "            self.layers.append(nn.InstanceNorm1d(hidden_size))\n",
    "            self.layers.append(nn.ReLU())\n",
    "        self.layers.append(nn.Linear(hidden_size, 1))\n",
    "    \n",
    "    def forward(self, s: Optional[Tensor] = None, a: Optional[Tensor] = None) -> Tensor:\n",
    "        if a is  None:\n",
    "            h = self.state_ebmeds(s)\n",
    "            h = self.state_proj(h)\n",
    "            h = self.s_norm(h)\n",
    "            h = F.relu(h)\n",
    "            h = F.dropout(h, p=0.1, training=True)\n",
    "            return self.layers(h)\n",
    "        elif s is  None:\n",
    "            h = self.action_embeds(a)\n",
    "            h = self.action_proj(h)\n",
    "            h = self.a_norm(h)\n",
    "            h = F.relu(h)\n",
    "            h = F.dropout(h, p=0.1, training=True)\n",
    "            return self.layers(h)\n",
    "        else:\n",
    "            hs = self.state_ebmeds(s)\n",
    "            hs = self.state_proj(hs)\n",
    "            hs = self.s_norm(hs)\n",
    "            hs = F.relu(hs)\n",
    "            hs = F.dropout(hs, p=0.1, training=True)\n",
    "            ha = self.action_embeds(a)\n",
    "            ha = self.action_proj(ha)\n",
    "            ha = self.a_norm(ha)\n",
    "            ha = F.relu(ha)\n",
    "            ha = F.dropout(ha, p=0.1, training=True)\n",
    "            h = hs + ha\n",
    "            return self.layers(h)\n",
    "        \n",
    "observations = []\n",
    "actions = []\n",
    "labels = []\n",
    "\n",
    "world_model = WorldModel(4, 2, 6).to('cuda').to(torch.bfloat16)\n",
    "cost_function = CostFunction(4, 6).to('cuda').to(torch.bfloat16)\n",
    "world_opt = optim.Adam(world_model.parameters(), lr=2e-4, weight_decay=1e-2, fused=True)\n",
    "cost_opt = optim.Adam(cost_function.parameters(), lr=2e-4, weight_decay=1e-2, fused=True, maximize=True)\n",
    "action = None\n",
    "\n",
    "regret = 0\n",
    "cost = None\n",
    "\n",
    "ema_e_c = 0\n",
    "ema_decay = 0.99\n",
    "loss = 0\n",
    "pre_train_steps = 2000\n",
    "for i in range(100000):\n",
    "    if i < pre_train_steps:\n",
    "        action = env.action_space.sample()\n",
    "    observation, reward, terminated, truncated, info = env.step(action)\n",
    "    observations.append(observation)\n",
    "\n",
    "    actions.append(action)\n",
    "    if terminated:\n",
    "        cost = 0\n",
    "        loss = 0\n",
    "        for o, a, no in zip(observations, actions, observations[1:]):\n",
    "            o = torch.from_numpy(o).to('cuda').to(dtype=torch.bfloat16).view(1, -1)\n",
    "            a = torch.tensor(a, dtype=torch.long).to('cuda').view(1, -1)\n",
    "            no = torch.from_numpy(no).to('cuda').to(dtype=torch.bfloat16).view(1, -1)\n",
    "            cost += cost_function(s=o, a=a).view(-1)\n",
    "            no_h = world_model(o, a)\n",
    "            loss += F.mse_loss(no_h, no)\n",
    "        cost = cost / len(observations)\n",
    "        loss = loss / len(observations)\n",
    "        world_opt.zero_grad()\n",
    "        loss.backward()\n",
    "        world_opt.step()\n",
    "        cost_opt.zero_grad()\n",
    "        cost.backward()\n",
    "        cost_opt.step()\n",
    "        observations = []\n",
    "        actions = []\n",
    "        regret = 0\n",
    "    world_model.zero_grad()\n",
    "    cost_function.zero_grad()\n",
    "\n",
    "    if i >= pre_train_steps:\n",
    "        with torch.no_grad():\n",
    "\n",
    "\n",
    "            def estimate_cost(curr_o, action):\n",
    "                action = torch.tensor(action, dtype=torch.long).to('cuda').view(1, -1)\n",
    "                next_o_pred = world_model(curr_o, action)\n",
    "                next_cost = cost_function(s=next_o_pred, a=action).view(-1)\n",
    "                return next_cost\n",
    "\n",
    "            def sample_s():\n",
    "                rand_s = None\n",
    "                if len(observations) == 0:\n",
    "                    rand_s = env.observation_space.sample()\n",
    "                else:\n",
    "                    rand_s = observations[np.random.randint(len(observations))]\n",
    "                rand_s = torch.from_numpy(rand_s).to('cuda').to(dtype=torch.bfloat16).view(1, -1)\n",
    "\n",
    "                return rand_s\n",
    "            def sample_a():\n",
    "                rand_a = env.action_space.sample()\n",
    "                rand_a = torch.tensor(rand_a, dtype=torch.long).to('cuda').view(1, -1)\n",
    "                return rand_a\n",
    "\n",
    "            def expected_cost(curr_state, action):\n",
    "                next_cost = 0\n",
    "                curr_o = torch.from_numpy(curr_state).to('cuda').to(dtype=torch.bfloat16).view(1, -1)\n",
    "                curr_a = torch.tensor(action, dtype=torch.long).to('cuda').view(1, -1)\n",
    "                for _ in range(100):\n",
    "                    next_o_pred = world_model(curr_o, curr_a)\n",
    "                    next_cost += cost_function(s=next_o_pred, a=curr_a).view(-1)\n",
    "                    curr_o = next_o_pred\n",
    "                    curr_a = sample_a()\n",
    "                return next_cost\n",
    "                #rand_s = sample_s()\n",
    "                #rand_a = sample_a()\n",
    "                #next_o_pred = world_model(rand_s, rand_a)\n",
    "                #next_cost = cost_function(s=next_o_pred, a=rand_a).view(-1)\n",
    "                #return next_cost\n",
    "            curr_o = torch.from_numpy(observation).to('cuda').to(dtype=torch.bfloat16).view(1, -1)\n",
    "            #next_ec = expected_cost()\n",
    "            #if not torch.isfinite(next_ec):\n",
    "            #    next_ec = 0\n",
    "            nec_0 = estimate_cost(curr_o, 0)\n",
    "            nec_1 = estimate_cost(curr_o, 1)\n",
    "            regret_0 = regret + nec_0 - nec_1\n",
    "            regret_1 = regret + nec_1 - nec_0\n",
    "#\n",
    "            if regret_0 < regret_1:\n",
    "                action = 0\n",
    "                regret = regret_0.item()\n",
    "            else:\n",
    "                action = 1\n",
    "                regret = regret_1.item()\n",
    "        #\n",
    "\n",
    "    \n",
    "    frame = env.render()\n",
    "    clear_output(wait=True)\n",
    "    plt.imshow(frame)\n",
    "    if regret is None:\n",
    "        regret = 0\n",
    "    if isinstance(regret, Tensor):\n",
    "        regret = regret.item()\n",
    "    if cost is None:\n",
    "        cost = 0\n",
    "    if isinstance(cost, Tensor):\n",
    "        cost = cost.item()\n",
    "\n",
    "    if loss is None:\n",
    "        loss = 0\n",
    "    if isinstance(loss, Tensor):\n",
    "        loss = loss.item()\n",
    "    plt.title(f'it: {i} loss: {loss:.4f}, regret: {regret:.4f}, cost: {cost:.4f}')\n",
    "    plt.show()\n",
    "    if terminated or truncated:\n",
    "        observation, info = env.reset()\n",
    "        observations = []\n",
    "        actions = []\n",
    "        ema_e_c = 0\n",
    "env.close()\n",
    "del env"
   ]
  },
  {
   "cell_type": "code",
   "execution_count": null,
   "metadata": {},
   "outputs": [],
   "source": [
    "import torch\n",
    "a = torch.randint(0, 100, (2, 10, 10))"
   ]
  },
  {
   "cell_type": "code",
   "execution_count": null,
   "metadata": {},
   "outputs": [],
   "source": [
    "a[0 ]"
   ]
  },
  {
   "cell_type": "code",
   "execution_count": null,
   "metadata": {},
   "outputs": [],
   "source": [
    "a.view(2, 5, 2, 10)[0]"
   ]
  },
  {
   "cell_type": "code",
   "execution_count": null,
   "metadata": {},
   "outputs": [],
   "source": [
    "import torch \n",
    "\n",
    "x = torch.randn(10, 10)\n",
    "y = torch.randn(10, 10)\n",
    "\n",
    "\n",
    "a1 = x @ y\n",
    "a2 = y @ x"
   ]
  },
  {
   "cell_type": "code",
   "execution_count": null,
   "metadata": {},
   "outputs": [],
   "source": [
    "a1"
   ]
  },
  {
   "cell_type": "code",
   "execution_count": null,
   "metadata": {},
   "outputs": [],
   "source": [
    "a2"
   ]
  },
  {
   "cell_type": "code",
   "execution_count": null,
   "metadata": {},
   "outputs": [],
   "source": [
    "import math\n",
    "\n",
    "math.e ** 0.9"
   ]
  },
  {
   "cell_type": "code",
   "execution_count": 1,
   "metadata": {},
   "outputs": [
    {
     "ename": "RuntimeError",
     "evalue": "The size of tensor a (10) must match the size of tensor b (12) at non-singleton dimension 1",
     "output_type": "error",
     "traceback": [
      "\u001b[0;31m---------------------------------------------------------------------------\u001b[0m",
      "\u001b[0;31mRuntimeError\u001b[0m                              Traceback (most recent call last)",
      "Cell \u001b[0;32mIn[1], line 6\u001b[0m\n\u001b[1;32m      3\u001b[0m a \u001b[38;5;241m=\u001b[39m torch\u001b[38;5;241m.\u001b[39mrandn(\u001b[38;5;241m1\u001b[39m, \u001b[38;5;241m10\u001b[39m, \u001b[38;5;241m3\u001b[39m)\n\u001b[1;32m      4\u001b[0m b \u001b[38;5;241m=\u001b[39m torch\u001b[38;5;241m.\u001b[39mrandn(\u001b[38;5;241m1\u001b[39m, \u001b[38;5;241m12\u001b[39m, \u001b[38;5;241m3\u001b[39m)\n\u001b[0;32m----> 6\u001b[0m \u001b[43ma\u001b[49m\u001b[38;5;241;43m-\u001b[39;49m\u001b[43m \u001b[49m\u001b[43mb\u001b[49m\n",
      "\u001b[0;31mRuntimeError\u001b[0m: The size of tensor a (10) must match the size of tensor b (12) at non-singleton dimension 1"
     ]
    },
    {
     "ename": "",
     "evalue": "",
     "output_type": "error",
     "traceback": [
      "\u001b[1;31mThe Kernel crashed while executing code in the the current cell or a previous cell. Please review the code in the cell(s) to identify a possible cause of the failure. Click <a href='https://aka.ms/vscodeJupyterKernelCrash'>here</a> for more info. View Jupyter <a href='command:jupyter.viewOutput'>log</a> for further details."
     ]
    }
   ],
   "source": [
    "import torch\n",
    "\n",
    "a = torch.randn(1, 10, 3)\n",
    "b = torch.randn(1, 12, 3)\n",
    "\n",
    "a- b"
   ]
  },
  {
   "cell_type": "code",
   "execution_count": 3,
   "metadata": {},
   "outputs": [
    {
     "data": {
      "text/plain": [
       "tensor([[ 3.3106, -1.8665,  1.1985],\n",
       "        [ 0.2505, -1.8023, -1.7204],\n",
       "        [-0.1270, -0.8095, -2.0361]])"
      ]
     },
     "execution_count": 3,
     "metadata": {},
     "output_type": "execute_result"
    }
   ],
   "source": [
    "import torch\n",
    "\n",
    "x = torch.randn(3, 1)\n",
    "y = torch.randn(1, 3)\n",
    "xb = torch.randn(3, 1)\n",
    "yb = torch.randn(1, 3)\n",
    "x @ y + xb + yb"
   ]
  },
  {
   "cell_type": "code",
   "execution_count": null,
   "metadata": {},
   "outputs": [],
   "source": []
  }
 ],
 "metadata": {
  "kernelspec": {
   "display_name": "base",
   "language": "python",
   "name": "python3"
  },
  "language_info": {
   "codemirror_mode": {
    "name": "ipython",
    "version": 3
   },
   "file_extension": ".py",
   "mimetype": "text/x-python",
   "name": "python",
   "nbconvert_exporter": "python",
   "pygments_lexer": "ipython3",
   "version": "3.10.12"
  }
 },
 "nbformat": 4,
 "nbformat_minor": 2
}
