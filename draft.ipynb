{
 "cells": [
  {
   "cell_type": "code",
   "execution_count": 1,
   "metadata": {},
   "outputs": [],
   "source": [
    "import torch\n",
    "x = torch.randn(32000, 4096)\n",
    "p = torch.randn(32000, 20000)\n",
    "y = torch.randn(20000, 1024)"
   ]
  },
  {
   "cell_type": "code",
   "execution_count": 9,
   "metadata": {},
   "outputs": [],
   "source": [
    "from transformers import AutoTokenizer, AutoModelForCausalLM\n",
    "from transformers.models.gpt2.modeling_gpt2 import GPT2LMHeadModel\n",
    "model_id = \"gpt2\"\n",
    "\n",
    "tokenizer = AutoTokenizer.from_pretrained(model_id)\n",
    "model = AutoModelForCausalLM.from_pretrained(model_id, torch_dtype=torch.bfloat16, device_map='auto')\n",
    "text = \"Replace me by any text you'd like.\"\n",
    "encoded_input = tokenizer(text, return_tensors='pt').to(model.device)\n",
    "output = model(**encoded_input)\n",
    "torch.nn.functional.kl_div()"
   ]
  },
  {
   "cell_type": "code",
   "execution_count": 8,
   "metadata": {},
   "outputs": [
    {
     "data": {
      "text/plain": [
       "tensor([[[ -28.5000,  -27.6250,  -30.0000,  ...,  -37.5000,  -35.5000,\n",
       "           -28.6250],\n",
       "         [ -60.0000,  -57.7500,  -62.0000,  ...,  -68.0000,  -68.0000,\n",
       "           -60.5000],\n",
       "         [ -76.5000,  -78.0000,  -83.0000,  ...,  -90.0000,  -89.0000,\n",
       "           -81.0000],\n",
       "         ...,\n",
       "         [-145.0000, -145.0000, -150.0000,  ..., -154.0000, -150.0000,\n",
       "          -147.0000],\n",
       "         [ -84.5000,  -86.0000,  -91.5000,  ..., -100.0000,  -98.0000,\n",
       "           -88.5000],\n",
       "         [-123.0000, -121.5000, -122.5000,  ..., -133.0000, -132.0000,\n",
       "          -116.0000]]], device='cuda:0', dtype=torch.bfloat16,\n",
       "       grad_fn=<UnsafeViewBackward0>)"
      ]
     },
     "execution_count": 8,
     "metadata": {},
     "output_type": "execute_result"
    }
   ],
   "source": [
    "output.logits"
   ]
  },
  {
   "cell_type": "code",
   "execution_count": null,
   "metadata": {},
   "outputs": [],
   "source": []
  },
  {
   "cell_type": "code",
   "execution_count": null,
   "metadata": {},
   "outputs": [],
   "source": []
  }
 ],
 "metadata": {
  "kernelspec": {
   "display_name": "base",
   "language": "python",
   "name": "python3"
  },
  "language_info": {
   "codemirror_mode": {
    "name": "ipython",
    "version": 3
   },
   "file_extension": ".py",
   "mimetype": "text/x-python",
   "name": "python",
   "nbconvert_exporter": "python",
   "pygments_lexer": "ipython3",
   "version": "3.10.12"
  }
 },
 "nbformat": 4,
 "nbformat_minor": 2
}
